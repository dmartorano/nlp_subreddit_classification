{
 "cells": [
  {
   "cell_type": "markdown",
   "metadata": {},
   "source": [
    "# Data Collection"
   ]
  },
  {
   "cell_type": "markdown",
   "metadata": {},
   "source": [
    "### Imports"
   ]
  },
  {
   "cell_type": "code",
   "execution_count": 6,
   "metadata": {},
   "outputs": [],
   "source": [
    "import praw"
   ]
  },
  {
   "cell_type": "code",
   "execution_count": 7,
   "metadata": {},
   "outputs": [],
   "source": [
    "reddit = praw.Reddit()"
   ]
  },
  {
   "cell_type": "markdown",
   "metadata": {},
   "source": [
    "### Choose and Gather Data Through API"
   ]
  },
  {
   "cell_type": "code",
   "execution_count": 8,
   "metadata": {},
   "outputs": [],
   "source": [
    "my_subreddit1 = \"Overwatch\"\n",
    "my_subreddit2 = \"apexlegends\"\n",
    "# Define the two subReddits to be compared"
   ]
  },
  {
   "cell_type": "code",
   "execution_count": 9,
   "metadata": {},
   "outputs": [],
   "source": [
    "# posts1 = reddit.subreddit(my_subreddit1).new(limit=1000) \n",
    "# First run of data was gathered elsewhere\n",
    "posts1stream2 = reddit.subreddit(my_subreddit1).top(limit=1000)\n",
    "posts1stream3 = reddit.subreddit(my_subreddit1).controversial(limit=1000)\n",
    "# Gather posts from the \"Overwatch\" subreddit"
   ]
  },
  {
   "cell_type": "code",
   "execution_count": 10,
   "metadata": {},
   "outputs": [],
   "source": [
    "posts_list1stream2 = []\n",
    "\n",
    "for post in posts1stream2:\n",
    "    posts_list1stream2.append(\n",
    "        {\n",
    "            'title': post.title,\n",
    "            'selftext': post.selftext,\n",
    "            'subreddit': post.subreddit,\n",
    "            'created_utc': post.created_utc,\n",
    "            'name': post.name\n",
    "        }\n",
    "    )\n",
    "\n",
    "# Same code as used for first run of data"
   ]
  },
  {
   "cell_type": "code",
   "execution_count": 11,
   "metadata": {},
   "outputs": [],
   "source": [
    "posts_list1stream3 = []\n",
    "\n",
    "for post in posts1stream3:\n",
    "    posts_list1stream3.append(\n",
    "        {\n",
    "            'title': post.title,\n",
    "            'selftext': post.selftext,\n",
    "            'subreddit': post.subreddit,\n",
    "            'created_utc': post.created_utc,\n",
    "            'name': post.name\n",
    "        }\n",
    "    )"
   ]
  },
  {
   "cell_type": "code",
   "execution_count": 12,
   "metadata": {},
   "outputs": [],
   "source": [
    "# posts2 = reddit.subreddit(my_subreddit2).new(limit=1000) \n",
    "# First run of data was gathered elsewhere\n",
    "posts2stream2 = reddit.subreddit(my_subreddit2).top(limit=1000)\n",
    "posts2stream3 = reddit.subreddit(my_subreddit2).controversial(limit=1000)\n",
    "# Gather posts from the \"apexlegends\" subreddit"
   ]
  },
  {
   "cell_type": "code",
   "execution_count": 13,
   "metadata": {},
   "outputs": [],
   "source": [
    "posts_list2stream2 = []\n",
    "\n",
    "for post in posts2stream2:\n",
    "    posts_list2stream2.append(\n",
    "        {\n",
    "            'title': post.title,\n",
    "            'selftext': post.selftext,\n",
    "            'subreddit': post.subreddit,\n",
    "            'created_utc': post.created_utc,\n",
    "            'name': post.name\n",
    "        }\n",
    "    )"
   ]
  },
  {
   "cell_type": "code",
   "execution_count": 14,
   "metadata": {},
   "outputs": [],
   "source": [
    "posts_list2stream3 = []\n",
    "\n",
    "for post in posts2stream3:\n",
    "    posts_list2stream3.append(\n",
    "        {\n",
    "            'title': post.title,\n",
    "            'selftext': post.selftext,\n",
    "            'subreddit': post.subreddit,\n",
    "            'created_utc': post.created_utc,\n",
    "            'name': post.name\n",
    "        }\n",
    "    )"
   ]
  },
  {
   "cell_type": "markdown",
   "metadata": {},
   "source": [
    "### Create Usable DataFrames"
   ]
  },
  {
   "cell_type": "code",
   "execution_count": 5,
   "metadata": {},
   "outputs": [],
   "source": [
    "import pandas as pd"
   ]
  },
  {
   "cell_type": "code",
   "execution_count": 15,
   "metadata": {},
   "outputs": [],
   "source": [
    "# overwatch1 = pd.DataFrame(posts_list1) Pulled in as dataframe after being collected elsewhere\n",
    "overwatch1 = pd.read_csv(\"../data/overwatch1.csv\") "
   ]
  },
  {
   "cell_type": "code",
   "execution_count": 17,
   "metadata": {},
   "outputs": [],
   "source": [
    "overwatch2 = pd.DataFrame(posts_list1stream2)"
   ]
  },
  {
   "cell_type": "code",
   "execution_count": 18,
   "metadata": {},
   "outputs": [],
   "source": [
    "overwatch3 = pd.DataFrame(posts_list1stream3)"
   ]
  },
  {
   "cell_type": "code",
   "execution_count": 19,
   "metadata": {},
   "outputs": [],
   "source": [
    "overwatch12 = overwatch1.merge(overwatch2, how=\"outer\")"
   ]
  },
  {
   "cell_type": "code",
   "execution_count": 20,
   "metadata": {},
   "outputs": [],
   "source": [
    "overwatch = overwatch12.merge(overwatch3, how=\"outer\")"
   ]
  },
  {
   "cell_type": "code",
   "execution_count": 21,
   "metadata": {},
   "outputs": [],
   "source": [
    "# apexlegends1 = pd.DataFrame(posts_list2) Pulled in as dataframe after being collected elsewhere\n",
    "apexlegends1 = pd.read_csv(\"../data/apexlegends1.csv\")"
   ]
  },
  {
   "cell_type": "code",
   "execution_count": 22,
   "metadata": {},
   "outputs": [],
   "source": [
    "apexlegends2 = pd.DataFrame(posts_list2stream2)"
   ]
  },
  {
   "cell_type": "code",
   "execution_count": 24,
   "metadata": {},
   "outputs": [],
   "source": [
    "apexlegends3 = pd.DataFrame(posts_list2stream3)"
   ]
  },
  {
   "cell_type": "code",
   "execution_count": 23,
   "metadata": {},
   "outputs": [],
   "source": [
    "apexlegends12 = apexlegends1.merge(apexlegends2, how=\"outer\")"
   ]
  },
  {
   "cell_type": "code",
   "execution_count": 25,
   "metadata": {},
   "outputs": [],
   "source": [
    "apexlegends = apexlegends12.merge(apexlegends3, how=\"outer\")"
   ]
  },
  {
   "cell_type": "markdown",
   "metadata": {},
   "source": [
    "### Merge and Export"
   ]
  },
  {
   "cell_type": "code",
   "execution_count": 26,
   "metadata": {},
   "outputs": [],
   "source": [
    "subredditdata = overwatch.merge(apexlegends, how=\"outer\")"
   ]
  },
  {
   "cell_type": "code",
   "execution_count": 27,
   "metadata": {},
   "outputs": [
    {
     "data": {
      "text/plain": [
       "(5931, 5)"
      ]
     },
     "execution_count": 27,
     "metadata": {},
     "output_type": "execute_result"
    }
   ],
   "source": [
    "subredditdata.shape"
   ]
  },
  {
   "cell_type": "code",
   "execution_count": 28,
   "metadata": {},
   "outputs": [],
   "source": [
    "subredditdata.to_csv(\"../data/subredditdata.csv\", index=False)"
   ]
  }
 ],
 "metadata": {
  "kernelspec": {
   "display_name": "base",
   "language": "python",
   "name": "python3"
  },
  "language_info": {
   "codemirror_mode": {
    "name": "ipython",
    "version": 3
   },
   "file_extension": ".py",
   "mimetype": "text/x-python",
   "name": "python",
   "nbconvert_exporter": "python",
   "pygments_lexer": "ipython3",
   "version": "3.11.5"
  }
 },
 "nbformat": 4,
 "nbformat_minor": 2
}
